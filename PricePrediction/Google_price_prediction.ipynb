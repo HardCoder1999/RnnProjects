{
 "cells": [
  {
   "cell_type": "code",
   "execution_count": 1,
   "metadata": {},
   "outputs": [],
   "source": [
    "#Importing Statements\n",
    "import numpy as np\n",
    "import pandas as pd\n",
    "import matplotlib.pyplot as plt\n",
    "from sklearn.preprocessing import MinMaxScaler, StandardScaler\n",
    "from tensorflow.keras.models import Sequential\n",
    "from tensorflow.keras.layers import Dense, Dropout, LSTM \n",
    "\n",
    "%matplotlib inline"
   ]
  },
  {
   "cell_type": "code",
   "execution_count": 2,
   "metadata": {},
   "outputs": [],
   "source": [
    "# Loading the Data\n",
    "data_path = '../Downloads/CSV.csv'\n",
    "data = pd.read_csv(data_path)"
   ]
  },
  {
   "cell_type": "code",
   "execution_count": 3,
   "metadata": {},
   "outputs": [
    {
     "data": {
      "text/html": [
       "<div>\n",
       "<style scoped>\n",
       "    .dataframe tbody tr th:only-of-type {\n",
       "        vertical-align: middle;\n",
       "    }\n",
       "\n",
       "    .dataframe tbody tr th {\n",
       "        vertical-align: top;\n",
       "    }\n",
       "\n",
       "    .dataframe thead th {\n",
       "        text-align: right;\n",
       "    }\n",
       "</style>\n",
       "<table border=\"1\" class=\"dataframe\">\n",
       "  <thead>\n",
       "    <tr style=\"text-align: right;\">\n",
       "      <th></th>\n",
       "      <th>Date</th>\n",
       "      <th>Open</th>\n",
       "      <th>High</th>\n",
       "      <th>Low</th>\n",
       "      <th>Close</th>\n",
       "      <th>Adj Close</th>\n",
       "      <th>Volume</th>\n",
       "    </tr>\n",
       "  </thead>\n",
       "  <tbody>\n",
       "    <tr>\n",
       "      <th>0</th>\n",
       "      <td>1996-08-09</td>\n",
       "      <td>14.250</td>\n",
       "      <td>16.750</td>\n",
       "      <td>14.250</td>\n",
       "      <td>16.500</td>\n",
       "      <td>15.047827</td>\n",
       "      <td>1601500</td>\n",
       "    </tr>\n",
       "    <tr>\n",
       "      <th>1</th>\n",
       "      <td>1996-08-12</td>\n",
       "      <td>16.500</td>\n",
       "      <td>16.750</td>\n",
       "      <td>16.375</td>\n",
       "      <td>16.500</td>\n",
       "      <td>15.047827</td>\n",
       "      <td>260900</td>\n",
       "    </tr>\n",
       "    <tr>\n",
       "      <th>2</th>\n",
       "      <td>1996-08-13</td>\n",
       "      <td>16.500</td>\n",
       "      <td>16.750</td>\n",
       "      <td>16.375</td>\n",
       "      <td>16.375</td>\n",
       "      <td>14.933824</td>\n",
       "      <td>162800</td>\n",
       "    </tr>\n",
       "    <tr>\n",
       "      <th>3</th>\n",
       "      <td>1996-08-14</td>\n",
       "      <td>16.375</td>\n",
       "      <td>16.625</td>\n",
       "      <td>16.375</td>\n",
       "      <td>16.375</td>\n",
       "      <td>14.933824</td>\n",
       "      <td>59500</td>\n",
       "    </tr>\n",
       "    <tr>\n",
       "      <th>4</th>\n",
       "      <td>1996-08-15</td>\n",
       "      <td>16.625</td>\n",
       "      <td>16.625</td>\n",
       "      <td>16.375</td>\n",
       "      <td>16.625</td>\n",
       "      <td>15.161817</td>\n",
       "      <td>62300</td>\n",
       "    </tr>\n",
       "  </tbody>\n",
       "</table>\n",
       "</div>"
      ],
      "text/plain": [
       "         Date    Open    High     Low   Close  Adj Close   Volume\n",
       "0  1996-08-09  14.250  16.750  14.250  16.500  15.047827  1601500\n",
       "1  1996-08-12  16.500  16.750  16.375  16.500  15.047827   260900\n",
       "2  1996-08-13  16.500  16.750  16.375  16.375  14.933824   162800\n",
       "3  1996-08-14  16.375  16.625  16.375  16.375  14.933824    59500\n",
       "4  1996-08-15  16.625  16.625  16.375  16.625  15.161817    62300"
      ]
     },
     "execution_count": 3,
     "metadata": {},
     "output_type": "execute_result"
    }
   ],
   "source": [
    "data.head()"
   ]
  },
  {
   "cell_type": "code",
   "execution_count": 4,
   "metadata": {},
   "outputs": [
    {
     "data": {
      "text/html": [
       "<div>\n",
       "<style scoped>\n",
       "    .dataframe tbody tr th:only-of-type {\n",
       "        vertical-align: middle;\n",
       "    }\n",
       "\n",
       "    .dataframe tbody tr th {\n",
       "        vertical-align: top;\n",
       "    }\n",
       "\n",
       "    .dataframe thead th {\n",
       "        text-align: right;\n",
       "    }\n",
       "</style>\n",
       "<table border=\"1\" class=\"dataframe\">\n",
       "  <thead>\n",
       "    <tr style=\"text-align: right;\">\n",
       "      <th></th>\n",
       "      <th>Date</th>\n",
       "      <th>Open</th>\n",
       "      <th>High</th>\n",
       "      <th>Low</th>\n",
       "      <th>Close</th>\n",
       "      <th>Adj Close</th>\n",
       "      <th>Volume</th>\n",
       "    </tr>\n",
       "  </thead>\n",
       "  <tbody>\n",
       "    <tr>\n",
       "      <th>0</th>\n",
       "      <td>1996-08-09</td>\n",
       "      <td>14.250</td>\n",
       "      <td>16.750</td>\n",
       "      <td>14.250</td>\n",
       "      <td>16.500</td>\n",
       "      <td>15.047827</td>\n",
       "      <td>1601500</td>\n",
       "    </tr>\n",
       "    <tr>\n",
       "      <th>1</th>\n",
       "      <td>1996-08-12</td>\n",
       "      <td>16.500</td>\n",
       "      <td>16.750</td>\n",
       "      <td>16.375</td>\n",
       "      <td>16.500</td>\n",
       "      <td>15.047827</td>\n",
       "      <td>260900</td>\n",
       "    </tr>\n",
       "    <tr>\n",
       "      <th>2</th>\n",
       "      <td>1996-08-13</td>\n",
       "      <td>16.500</td>\n",
       "      <td>16.750</td>\n",
       "      <td>16.375</td>\n",
       "      <td>16.375</td>\n",
       "      <td>14.933824</td>\n",
       "      <td>162800</td>\n",
       "    </tr>\n",
       "    <tr>\n",
       "      <th>3</th>\n",
       "      <td>1996-08-14</td>\n",
       "      <td>16.375</td>\n",
       "      <td>16.625</td>\n",
       "      <td>16.375</td>\n",
       "      <td>16.375</td>\n",
       "      <td>14.933824</td>\n",
       "      <td>59500</td>\n",
       "    </tr>\n",
       "    <tr>\n",
       "      <th>4</th>\n",
       "      <td>1996-08-15</td>\n",
       "      <td>16.625</td>\n",
       "      <td>16.625</td>\n",
       "      <td>16.375</td>\n",
       "      <td>16.625</td>\n",
       "      <td>15.161817</td>\n",
       "      <td>62300</td>\n",
       "    </tr>\n",
       "  </tbody>\n",
       "</table>\n",
       "</div>"
      ],
      "text/plain": [
       "         Date    Open    High     Low   Close  Adj Close   Volume\n",
       "0  1996-08-09  14.250  16.750  14.250  16.500  15.047827  1601500\n",
       "1  1996-08-12  16.500  16.750  16.375  16.500  15.047827   260900\n",
       "2  1996-08-13  16.500  16.750  16.375  16.375  14.933824   162800\n",
       "3  1996-08-14  16.375  16.625  16.375  16.375  14.933824    59500\n",
       "4  1996-08-15  16.625  16.625  16.375  16.625  15.161817    62300"
      ]
     },
     "execution_count": 4,
     "metadata": {},
     "output_type": "execute_result"
    }
   ],
   "source": [
    "data_training = data[data['Date'] < '2020-01-01'].copy()\n",
    "data_training.head()"
   ]
  },
  {
   "cell_type": "code",
   "execution_count": 5,
   "metadata": {},
   "outputs": [],
   "source": [
    "training_data = data_training.drop(columns=['Date', 'Adj Close'])"
   ]
  },
  {
   "cell_type": "code",
   "execution_count": 6,
   "metadata": {},
   "outputs": [
    {
     "data": {
      "text/html": [
       "<div>\n",
       "<style scoped>\n",
       "    .dataframe tbody tr th:only-of-type {\n",
       "        vertical-align: middle;\n",
       "    }\n",
       "\n",
       "    .dataframe tbody tr th {\n",
       "        vertical-align: top;\n",
       "    }\n",
       "\n",
       "    .dataframe thead th {\n",
       "        text-align: right;\n",
       "    }\n",
       "</style>\n",
       "<table border=\"1\" class=\"dataframe\">\n",
       "  <thead>\n",
       "    <tr style=\"text-align: right;\">\n",
       "      <th></th>\n",
       "      <th>Open</th>\n",
       "      <th>High</th>\n",
       "      <th>Low</th>\n",
       "      <th>Close</th>\n",
       "      <th>Volume</th>\n",
       "    </tr>\n",
       "  </thead>\n",
       "  <tbody>\n",
       "    <tr>\n",
       "      <th>0</th>\n",
       "      <td>14.250</td>\n",
       "      <td>16.750</td>\n",
       "      <td>14.250</td>\n",
       "      <td>16.500</td>\n",
       "      <td>1601500</td>\n",
       "    </tr>\n",
       "    <tr>\n",
       "      <th>1</th>\n",
       "      <td>16.500</td>\n",
       "      <td>16.750</td>\n",
       "      <td>16.375</td>\n",
       "      <td>16.500</td>\n",
       "      <td>260900</td>\n",
       "    </tr>\n",
       "    <tr>\n",
       "      <th>2</th>\n",
       "      <td>16.500</td>\n",
       "      <td>16.750</td>\n",
       "      <td>16.375</td>\n",
       "      <td>16.375</td>\n",
       "      <td>162800</td>\n",
       "    </tr>\n",
       "    <tr>\n",
       "      <th>3</th>\n",
       "      <td>16.375</td>\n",
       "      <td>16.625</td>\n",
       "      <td>16.375</td>\n",
       "      <td>16.375</td>\n",
       "      <td>59500</td>\n",
       "    </tr>\n",
       "    <tr>\n",
       "      <th>4</th>\n",
       "      <td>16.625</td>\n",
       "      <td>16.625</td>\n",
       "      <td>16.375</td>\n",
       "      <td>16.625</td>\n",
       "      <td>62300</td>\n",
       "    </tr>\n",
       "  </tbody>\n",
       "</table>\n",
       "</div>"
      ],
      "text/plain": [
       "     Open    High     Low   Close   Volume\n",
       "0  14.250  16.750  14.250  16.500  1601500\n",
       "1  16.500  16.750  16.375  16.500   260900\n",
       "2  16.500  16.750  16.375  16.375   162800\n",
       "3  16.375  16.625  16.375  16.375    59500\n",
       "4  16.625  16.625  16.375  16.625    62300"
      ]
     },
     "execution_count": 6,
     "metadata": {},
     "output_type": "execute_result"
    }
   ],
   "source": [
    "training_data.head()"
   ]
  },
  {
   "cell_type": "code",
   "execution_count": 7,
   "metadata": {},
   "outputs": [],
   "source": [
    "scaler = MinMaxScaler()\n",
    "training_data = scaler.fit_transform(training_data)"
   ]
  },
  {
   "cell_type": "code",
   "execution_count": 8,
   "metadata": {},
   "outputs": [],
   "source": [
    "X_train = []\n",
    "y_train = []"
   ]
  },
  {
   "cell_type": "code",
   "execution_count": 9,
   "metadata": {},
   "outputs": [
    {
     "data": {
      "text/plain": [
       "(5888, 5)"
      ]
     },
     "execution_count": 9,
     "metadata": {},
     "output_type": "execute_result"
    }
   ],
   "source": [
    "training_data.shape"
   ]
  },
  {
   "cell_type": "code",
   "execution_count": 10,
   "metadata": {},
   "outputs": [],
   "source": [
    "for i in range(60, training_data.shape[0]):\n",
    "    X_train.append(training_data[i-60:i])\n",
    "    y_train.append(training_data[i, 0])"
   ]
  },
  {
   "cell_type": "code",
   "execution_count": 11,
   "metadata": {},
   "outputs": [],
   "source": [
    "X_train, y_train = np.array(X_train), np.array(y_train)"
   ]
  },
  {
   "cell_type": "code",
   "execution_count": 12,
   "metadata": {},
   "outputs": [
    {
     "data": {
      "text/plain": [
       "((5828, 60, 5), (5828,))"
      ]
     },
     "execution_count": 12,
     "metadata": {},
     "output_type": "execute_result"
    }
   ],
   "source": [
    "X_train.shape, y_train.shape"
   ]
  },
  {
   "cell_type": "code",
   "execution_count": 13,
   "metadata": {},
   "outputs": [],
   "source": [
    "model = Sequential([\n",
    "    LSTM(units=50, activation='relu', return_sequences=True, input_shape=(X_train.shape[1], 5)),\n",
    "    Dropout(0.2),\n",
    "    \n",
    "    LSTM(units=60, activation='relu', return_sequences=True),\n",
    "    Dropout(0.3),\n",
    "    \n",
    "    LSTM(units=80, activation='relu', return_sequences=True),\n",
    "    Dropout(0.4),\n",
    "    \n",
    "    LSTM(units=120, activation='relu'),\n",
    "    Dropout(0.5),\n",
    "    \n",
    "    Dense(units=1)\n",
    "])"
   ]
  },
  {
   "cell_type": "code",
   "execution_count": 14,
   "metadata": {},
   "outputs": [
    {
     "name": "stdout",
     "output_type": "stream",
     "text": [
      "Model: \"sequential\"\n",
      "_________________________________________________________________\n",
      "Layer (type)                 Output Shape              Param #   \n",
      "=================================================================\n",
      "lstm (LSTM)                  (None, 60, 50)            11200     \n",
      "_________________________________________________________________\n",
      "dropout (Dropout)            (None, 60, 50)            0         \n",
      "_________________________________________________________________\n",
      "lstm_1 (LSTM)                (None, 60, 60)            26640     \n",
      "_________________________________________________________________\n",
      "dropout_1 (Dropout)          (None, 60, 60)            0         \n",
      "_________________________________________________________________\n",
      "lstm_2 (LSTM)                (None, 60, 80)            45120     \n",
      "_________________________________________________________________\n",
      "dropout_2 (Dropout)          (None, 60, 80)            0         \n",
      "_________________________________________________________________\n",
      "lstm_3 (LSTM)                (None, 120)               96480     \n",
      "_________________________________________________________________\n",
      "dropout_3 (Dropout)          (None, 120)               0         \n",
      "_________________________________________________________________\n",
      "dense (Dense)                (None, 1)                 121       \n",
      "=================================================================\n",
      "Total params: 179,561\n",
      "Trainable params: 179,561\n",
      "Non-trainable params: 0\n",
      "_________________________________________________________________\n"
     ]
    }
   ],
   "source": [
    "model.summary()"
   ]
  },
  {
   "cell_type": "code",
   "execution_count": 15,
   "metadata": {},
   "outputs": [],
   "source": [
    "model.compile(optimizer='adam', loss='mean_squared_error')"
   ]
  },
  {
   "cell_type": "code",
   "execution_count": 16,
   "metadata": {},
   "outputs": [
    {
     "name": "stdout",
     "output_type": "stream",
     "text": [
      "Epoch 1/20\n",
      "183/183 [==============================] - 32s 173ms/step - loss: 0.0173\n",
      "Epoch 2/20\n",
      "183/183 [==============================] - 31s 169ms/step - loss: 0.0073\n",
      "Epoch 3/20\n",
      "183/183 [==============================] - 31s 170ms/step - loss: 0.0060\n",
      "Epoch 4/20\n",
      "183/183 [==============================] - 31s 168ms/step - loss: 0.0056\n",
      "Epoch 5/20\n",
      "183/183 [==============================] - 31s 169ms/step - loss: 0.0056\n",
      "Epoch 6/20\n",
      "183/183 [==============================] - 31s 169ms/step - loss: 0.0050\n",
      "Epoch 7/20\n",
      "183/183 [==============================] - 31s 172ms/step - loss: 0.0051\n",
      "Epoch 8/20\n",
      "183/183 [==============================] - 31s 170ms/step - loss: 0.0050\n",
      "Epoch 9/20\n",
      "183/183 [==============================] - 31s 171ms/step - loss: 0.0047\n",
      "Epoch 10/20\n",
      "183/183 [==============================] - 31s 170ms/step - loss: 0.0047\n",
      "Epoch 11/20\n",
      "183/183 [==============================] - 32s 174ms/step - loss: 0.0046\n",
      "Epoch 12/20\n",
      "183/183 [==============================] - 34s 187ms/step - loss: 0.0045\n",
      "Epoch 13/20\n",
      "183/183 [==============================] - 38s 206ms/step - loss: 0.0044\n",
      "Epoch 14/20\n",
      "183/183 [==============================] - 35s 191ms/step - loss: 0.0044\n",
      "Epoch 15/20\n",
      "183/183 [==============================] - 45s 245ms/step - loss: 0.0045\n",
      "Epoch 16/20\n",
      "183/183 [==============================] - 41s 223ms/step - loss: 0.0044\n",
      "Epoch 17/20\n",
      "183/183 [==============================] - 42s 231ms/step - loss: 0.0041\n",
      "Epoch 18/20\n",
      "183/183 [==============================] - 35s 189ms/step - loss: 0.0045\n",
      "Epoch 19/20\n",
      "183/183 [==============================] - 34s 184ms/step - loss: 0.0044\n",
      "Epoch 20/20\n",
      "183/183 [==============================] - 31s 170ms/step - loss: 0.0041\n"
     ]
    }
   ],
   "source": [
    "history = model.fit(X_train, y_train, epochs=20, batch_size=32)"
   ]
  },
  {
   "cell_type": "code",
   "execution_count": 17,
   "metadata": {},
   "outputs": [],
   "source": [
    "# Preparing the test data\n",
    "data_test = data[data['Date'] >= '2020-01-01'].copy()"
   ]
  },
  {
   "cell_type": "code",
   "execution_count": 18,
   "metadata": {},
   "outputs": [
    {
     "data": {
      "text/plain": [
       "(150, 7)"
      ]
     },
     "execution_count": 18,
     "metadata": {},
     "output_type": "execute_result"
    }
   ],
   "source": [
    "data_test.shape"
   ]
  },
  {
   "cell_type": "code",
   "execution_count": 19,
   "metadata": {},
   "outputs": [],
   "source": [
    "# Dropping Columns\n",
    "data_test = data_test.drop(columns=['Date', 'Adj Close'])"
   ]
  },
  {
   "cell_type": "code",
   "execution_count": 20,
   "metadata": {},
   "outputs": [],
   "source": [
    "# Preparation of the test data\n",
    "last_60_days = data_training.tail(60)\n",
    "last_60_days = last_60_days.drop(columns=['Date', 'Adj Close'])\n",
    "last_60_days = last_60_days.append(data_test, ignore_index=True)"
   ]
  },
  {
   "cell_type": "code",
   "execution_count": 21,
   "metadata": {},
   "outputs": [],
   "source": [
    "test_data = scaler.transform(last_60_days)"
   ]
  },
  {
   "cell_type": "code",
   "execution_count": 22,
   "metadata": {},
   "outputs": [],
   "source": [
    "X_test = []\n",
    "y_test = []"
   ]
  },
  {
   "cell_type": "code",
   "execution_count": 23,
   "metadata": {},
   "outputs": [],
   "source": [
    "for i in range(60, test_data.shape[0]):\n",
    "    X_test.append(test_data[i-60:i])\n",
    "    y_test.append(test_data[i, 0])"
   ]
  },
  {
   "cell_type": "code",
   "execution_count": 24,
   "metadata": {},
   "outputs": [
    {
     "data": {
      "text/plain": [
       "((150, 60, 5), (150,))"
      ]
     },
     "execution_count": 24,
     "metadata": {},
     "output_type": "execute_result"
    }
   ],
   "source": [
    "X_test, y_test = np.array(X_test), np.array(y_test)\n",
    "X_test.shape, y_test.shape"
   ]
  },
  {
   "cell_type": "code",
   "execution_count": 25,
   "metadata": {},
   "outputs": [],
   "source": [
    "# Predicting Output\n",
    "y_pred = model.predict(X_test)"
   ]
  },
  {
   "cell_type": "code",
   "execution_count": 26,
   "metadata": {},
   "outputs": [
    {
     "data": {
      "text/plain": [
       "((150, 1), (150,), (150, 60, 5))"
      ]
     },
     "execution_count": 26,
     "metadata": {},
     "output_type": "execute_result"
    }
   ],
   "source": [
    "y_pred.shape, y_test.shape, X_test.shape"
   ]
  },
  {
   "cell_type": "code",
   "execution_count": 27,
   "metadata": {},
   "outputs": [
    {
     "data": {
      "text/plain": [
       "array([3.59550562e-02, 3.57941834e-02, 3.60003600e-02, 3.59550562e-02,\n",
       "       4.82299605e-07])"
      ]
     },
     "execution_count": 27,
     "metadata": {},
     "output_type": "execute_result"
    }
   ],
   "source": [
    "# Scale the data\n",
    "scaler.scale_"
   ]
  },
  {
   "cell_type": "code",
   "execution_count": 28,
   "metadata": {},
   "outputs": [],
   "source": [
    "scale = 1 / 6.96864160e-02\n",
    "y_pred *= scale\n",
    "y_test *= scale"
   ]
  },
  {
   "cell_type": "code",
   "execution_count": 29,
   "metadata": {},
   "outputs": [
    {
     "data": {
      "image/png": "[encoded data removed]",
      "text/plain": [
       "<Figure size 432x288 with 1 Axes>"
      ]
     },
     "metadata": {
      "needs_background": "light"
     },
     "output_type": "display_data"
    }
   ],
   "source": [
    "plt.plot(y_test)\n",
    "plt.plot(y_pred)\n",
    "plt.show()"
   ]
  },
  {
   "cell_type": "code",
   "execution_count": null,
   "metadata": {},
   "outputs": [],
   "source": []
  }
 ],
 "metadata": {
  "kernelspec": {
   "display_name": "Python 3",
   "language": "python",
   "name": "python3"
  },
  "language_info": {
   "codemirror_mode": {
    "name": "ipython",
    "version": 3
   },
   "file_extension": ".py",
   "mimetype": "text/x-python",
   "name": "python",
   "nbconvert_exporter": "python",
   "pygments_lexer": "ipython3",
   "version": "3.7.6"
  }
 },
 "nbformat": 4,
 "nbformat_minor": 4
}
